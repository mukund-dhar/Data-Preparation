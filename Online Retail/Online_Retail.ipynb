{
  "cells": [
    {
      "cell_type": "code",
      "execution_count": 12,
      "metadata": {
        "id": "gLHScRUFk4Kn"
      },
      "outputs": [],
      "source": [
        "# Importing the libraries\n",
        "import pandas as pd\n",
        "import numpy as np\n",
        "from tqdm import tqdm\n",
        "from fuzzywuzzy import fuzz, process\n",
        "import spacy\n",
        "import warnings\n",
        "warnings.simplefilter(\"once\")"
      ]
    },
    {
      "cell_type": "code",
      "execution_count": 13,
      "metadata": {},
      "outputs": [],
      "source": [
        "# load the dataset\n",
        "data = pd.read_excel('Online Retail.xlsx')"
      ]
    },
    {
      "cell_type": "code",
      "execution_count": 14,
      "metadata": {
        "colab": {
          "base_uri": "https://localhost:8080/",
          "height": 206
        },
        "id": "kbOLnAIp0Xz4",
        "outputId": "b8131c95-d2ce-4587-ff41-c2f8de11af79"
      },
      "outputs": [
        {
          "data": {
            "text/html": [
              "<div>\n",
              "<style scoped>\n",
              "    .dataframe tbody tr th:only-of-type {\n",
              "        vertical-align: middle;\n",
              "    }\n",
              "\n",
              "    .dataframe tbody tr th {\n",
              "        vertical-align: top;\n",
              "    }\n",
              "\n",
              "    .dataframe thead th {\n",
              "        text-align: right;\n",
              "    }\n",
              "</style>\n",
              "<table border=\"1\" class=\"dataframe\">\n",
              "  <thead>\n",
              "    <tr style=\"text-align: right;\">\n",
              "      <th></th>\n",
              "      <th>InvoiceNo</th>\n",
              "      <th>StockCode</th>\n",
              "      <th>Description</th>\n",
              "      <th>Quantity</th>\n",
              "      <th>InvoiceDate</th>\n",
              "      <th>UnitPrice</th>\n",
              "      <th>CustomerID</th>\n",
              "      <th>Country</th>\n",
              "    </tr>\n",
              "  </thead>\n",
              "  <tbody>\n",
              "    <tr>\n",
              "      <th>0</th>\n",
              "      <td>536365</td>\n",
              "      <td>85123A</td>\n",
              "      <td>WHITE HANGING HEART T-LIGHT HOLDER</td>\n",
              "      <td>6</td>\n",
              "      <td>2010-12-01 08:26:00</td>\n",
              "      <td>2.55</td>\n",
              "      <td>17850.0</td>\n",
              "      <td>United Kingdom</td>\n",
              "    </tr>\n",
              "    <tr>\n",
              "      <th>1</th>\n",
              "      <td>536365</td>\n",
              "      <td>71053</td>\n",
              "      <td>WHITE METAL LANTERN</td>\n",
              "      <td>6</td>\n",
              "      <td>2010-12-01 08:26:00</td>\n",
              "      <td>3.39</td>\n",
              "      <td>17850.0</td>\n",
              "      <td>United Kingdom</td>\n",
              "    </tr>\n",
              "    <tr>\n",
              "      <th>2</th>\n",
              "      <td>536365</td>\n",
              "      <td>84406B</td>\n",
              "      <td>CREAM CUPID HEARTS COAT HANGER</td>\n",
              "      <td>8</td>\n",
              "      <td>2010-12-01 08:26:00</td>\n",
              "      <td>2.75</td>\n",
              "      <td>17850.0</td>\n",
              "      <td>United Kingdom</td>\n",
              "    </tr>\n",
              "    <tr>\n",
              "      <th>3</th>\n",
              "      <td>536365</td>\n",
              "      <td>84029G</td>\n",
              "      <td>KNITTED UNION FLAG HOT WATER BOTTLE</td>\n",
              "      <td>6</td>\n",
              "      <td>2010-12-01 08:26:00</td>\n",
              "      <td>3.39</td>\n",
              "      <td>17850.0</td>\n",
              "      <td>United Kingdom</td>\n",
              "    </tr>\n",
              "    <tr>\n",
              "      <th>4</th>\n",
              "      <td>536365</td>\n",
              "      <td>84029E</td>\n",
              "      <td>RED WOOLLY HOTTIE WHITE HEART.</td>\n",
              "      <td>6</td>\n",
              "      <td>2010-12-01 08:26:00</td>\n",
              "      <td>3.39</td>\n",
              "      <td>17850.0</td>\n",
              "      <td>United Kingdom</td>\n",
              "    </tr>\n",
              "  </tbody>\n",
              "</table>\n",
              "</div>"
            ],
            "text/plain": [
              "  InvoiceNo StockCode                          Description  Quantity  \\\n",
              "0    536365    85123A   WHITE HANGING HEART T-LIGHT HOLDER         6   \n",
              "1    536365     71053                  WHITE METAL LANTERN         6   \n",
              "2    536365    84406B       CREAM CUPID HEARTS COAT HANGER         8   \n",
              "3    536365    84029G  KNITTED UNION FLAG HOT WATER BOTTLE         6   \n",
              "4    536365    84029E       RED WOOLLY HOTTIE WHITE HEART.         6   \n",
              "\n",
              "          InvoiceDate  UnitPrice  CustomerID         Country  \n",
              "0 2010-12-01 08:26:00       2.55     17850.0  United Kingdom  \n",
              "1 2010-12-01 08:26:00       3.39     17850.0  United Kingdom  \n",
              "2 2010-12-01 08:26:00       2.75     17850.0  United Kingdom  \n",
              "3 2010-12-01 08:26:00       3.39     17850.0  United Kingdom  \n",
              "4 2010-12-01 08:26:00       3.39     17850.0  United Kingdom  "
            ]
          },
          "execution_count": 14,
          "metadata": {},
          "output_type": "execute_result"
        }
      ],
      "source": [
        "data.head()"
      ]
    },
    {
      "cell_type": "code",
      "execution_count": 15,
      "metadata": {
        "colab": {
          "base_uri": "https://localhost:8080/"
        },
        "id": "DiDlNAmCoFhq",
        "outputId": "5b0e9550-5cfb-490a-9ac2-77772662750f"
      },
      "outputs": [
        {
          "data": {
            "text/plain": [
              "(530103, 8)"
            ]
          },
          "execution_count": 15,
          "metadata": {},
          "output_type": "execute_result"
        }
      ],
      "source": [
        "# Data preprocessing\n",
        "\n",
        "# remove rows with missing values\n",
        "data = data.dropna(subset=['InvoiceNo', 'Description', 'Quantity', 'UnitPrice'])\n",
        "\n",
        "# remove rows with negative quantity or price\n",
        "data = data[(data.Quantity > 0) & (data.UnitPrice > 0)]\n",
        "\n",
        "# exclude cancelled and adjustment invoices that start with 'C' and 'A' respectively\n",
        "data = data[~data['InvoiceNo'].apply(lambda x: str(x).startswith(('C', 'A')))]\n",
        "\n",
        "data.shape"
      ]
    },
    {
      "cell_type": "code",
      "execution_count": 16,
      "metadata": {
        "id": "KO2RrO31rKvy"
      },
      "outputs": [],
      "source": [
        "nlp = spacy.load('en_core_web_sm')\n",
        "\n",
        "def create_group_name(items):\n",
        "\n",
        "    item_text = \" \".join(items)\n",
        "\n",
        "    # parsing the text\n",
        "    doc = nlp(item_text)\n",
        "\n",
        "    # store the frequency of each word\n",
        "    word_freq = {}\n",
        "    for token in doc:\n",
        "        if token.is_alpha and not token.is_stop and len(token.text) > 2:\n",
        "            if token.text.lower() in word_freq:\n",
        "                word_freq[token.text.lower()] += 1\n",
        "            else:\n",
        "                word_freq[token.text.lower()] = 1\n",
        "\n",
        "    # taking the top 3 most frequent words\n",
        "    top_words = sorted(word_freq, key=word_freq.get, reverse=True)[:3]\n",
        "\n",
        "    # Creating the group name\n",
        "    group_name = \" \".join(top_words)\n",
        "\n",
        "    return group_name"
      ]
    },
    {
      "cell_type": "code",
      "execution_count": 17,
      "metadata": {
        "id": "LDXCZe652yuM"
      },
      "outputs": [],
      "source": [
        "def group_items(data, similarity_threshold):\n",
        "    # Create a dictionary to store the grouped items\n",
        "    item_groups = {}\n",
        "\n",
        "    # Group items by their similarity using string distance metrics\n",
        "    for item in tqdm(data.Description.unique()):\n",
        "        # Check if the item has already been grouped\n",
        "        if item in item_groups:\n",
        "            continue        \n",
        "\n",
        "        # Find the most similar item to the current item\n",
        "        max_similarity = 0\n",
        "        for group, group_items in item_groups.items():            \n",
        "            for group_item in group_items:\n",
        "                sim = fuzz.token_set_ratio(item.lower(), group_item.lower())\n",
        "                if sim > max_similarity:\n",
        "                    max_similarity = sim\n",
        "                    best_group = group\n",
        "\n",
        "        # If the most similar item has a high similarity, add the current item to its group\n",
        "        if max_similarity > similarity_threshold:\n",
        "            item_groups[best_group].append(item)\n",
        "        # Otherwise, create a new group for the current item\n",
        "        else:\n",
        "            item_groups[item] = [item]\n",
        "\n",
        "    # Create a dictionary to map each item to its group\n",
        "    item_to_group = {}\n",
        "    for group, items in tqdm(item_groups.items()):\n",
        "        for item in items:\n",
        "            item_to_group[item] = create_group_name(items)\n",
        "\n",
        "    # Add a new column to the data indicating the group for each item\n",
        "    data['ItemGroup'] = data.Description.apply(lambda x: item_to_group[x])\n",
        "    \n",
        "    return data\n"
      ]
    },
    {
      "cell_type": "code",
      "execution_count": 18,
      "metadata": {
        "colab": {
          "base_uri": "https://localhost:8080/"
        },
        "id": "mQON1BTn0RjF",
        "outputId": "08b40b36-4296-41a7-8b7d-6f5cb9b6fe54"
      },
      "outputs": [
        {
          "name": "stderr",
          "output_type": "stream",
          "text": [
            "100%|██████████| 4025/4025 [03:28<00:00, 19.28it/s]\n",
            "100%|██████████| 351/351 [05:44<00:00,  1.02it/s] \n"
          ]
        },
        {
          "name": "stdout",
          "output_type": "stream",
          "text": [
            "No. of item groups: 351\n"
          ]
        }
      ],
      "source": [
        "# Creating groups for the items and mapping them to each item using levenshtein metric\n",
        "data = group_items(data, 60) # Using similarity threshold = 60\n",
        "print(f'No. of item groups: {data.ItemGroup.nunique()}')"
      ]
    },
    {
      "cell_type": "code",
      "execution_count": 19,
      "metadata": {},
      "outputs": [
        {
          "data": {
            "text/html": [
              "<div>\n",
              "<style scoped>\n",
              "    .dataframe tbody tr th:only-of-type {\n",
              "        vertical-align: middle;\n",
              "    }\n",
              "\n",
              "    .dataframe tbody tr th {\n",
              "        vertical-align: top;\n",
              "    }\n",
              "\n",
              "    .dataframe thead th {\n",
              "        text-align: right;\n",
              "    }\n",
              "</style>\n",
              "<table border=\"1\" class=\"dataframe\">\n",
              "  <thead>\n",
              "    <tr style=\"text-align: right;\">\n",
              "      <th></th>\n",
              "      <th>InvoiceNo</th>\n",
              "      <th>StockCode</th>\n",
              "      <th>Description</th>\n",
              "      <th>Quantity</th>\n",
              "      <th>InvoiceDate</th>\n",
              "      <th>UnitPrice</th>\n",
              "      <th>CustomerID</th>\n",
              "      <th>Country</th>\n",
              "      <th>ItemGroup</th>\n",
              "    </tr>\n",
              "  </thead>\n",
              "  <tbody>\n",
              "    <tr>\n",
              "      <th>0</th>\n",
              "      <td>536365</td>\n",
              "      <td>85123A</td>\n",
              "      <td>WHITE HANGING HEART T-LIGHT HOLDER</td>\n",
              "      <td>6</td>\n",
              "      <td>2010-12-01 08:26:00</td>\n",
              "      <td>2.55</td>\n",
              "      <td>17850.0</td>\n",
              "      <td>United Kingdom</td>\n",
              "      <td>holder heart hanging</td>\n",
              "    </tr>\n",
              "    <tr>\n",
              "      <th>1</th>\n",
              "      <td>536365</td>\n",
              "      <td>71053</td>\n",
              "      <td>WHITE METAL LANTERN</td>\n",
              "      <td>6</td>\n",
              "      <td>2010-12-01 08:26:00</td>\n",
              "      <td>3.39</td>\n",
              "      <td>17850.0</td>\n",
              "      <td>United Kingdom</td>\n",
              "      <td>decoration hanging heart</td>\n",
              "    </tr>\n",
              "    <tr>\n",
              "      <th>2</th>\n",
              "      <td>536365</td>\n",
              "      <td>84406B</td>\n",
              "      <td>CREAM CUPID HEARTS COAT HANGER</td>\n",
              "      <td>8</td>\n",
              "      <td>2010-12-01 08:26:00</td>\n",
              "      <td>2.75</td>\n",
              "      <td>17850.0</td>\n",
              "      <td>United Kingdom</td>\n",
              "      <td>cream cupid hearts</td>\n",
              "    </tr>\n",
              "    <tr>\n",
              "      <th>3</th>\n",
              "      <td>536365</td>\n",
              "      <td>84029G</td>\n",
              "      <td>KNITTED UNION FLAG HOT WATER BOTTLE</td>\n",
              "      <td>6</td>\n",
              "      <td>2010-12-01 08:26:00</td>\n",
              "      <td>3.39</td>\n",
              "      <td>17850.0</td>\n",
              "      <td>United Kingdom</td>\n",
              "      <td>retrospot red set</td>\n",
              "    </tr>\n",
              "    <tr>\n",
              "      <th>4</th>\n",
              "      <td>536365</td>\n",
              "      <td>84029E</td>\n",
              "      <td>RED WOOLLY HOTTIE WHITE HEART.</td>\n",
              "      <td>6</td>\n",
              "      <td>2010-12-01 08:26:00</td>\n",
              "      <td>3.39</td>\n",
              "      <td>17850.0</td>\n",
              "      <td>United Kingdom</td>\n",
              "      <td>red woolly hottie</td>\n",
              "    </tr>\n",
              "  </tbody>\n",
              "</table>\n",
              "</div>"
            ],
            "text/plain": [
              "  InvoiceNo StockCode                          Description  Quantity  \\\n",
              "0    536365    85123A   WHITE HANGING HEART T-LIGHT HOLDER         6   \n",
              "1    536365     71053                  WHITE METAL LANTERN         6   \n",
              "2    536365    84406B       CREAM CUPID HEARTS COAT HANGER         8   \n",
              "3    536365    84029G  KNITTED UNION FLAG HOT WATER BOTTLE         6   \n",
              "4    536365    84029E       RED WOOLLY HOTTIE WHITE HEART.         6   \n",
              "\n",
              "          InvoiceDate  UnitPrice  CustomerID         Country  \\\n",
              "0 2010-12-01 08:26:00       2.55     17850.0  United Kingdom   \n",
              "1 2010-12-01 08:26:00       3.39     17850.0  United Kingdom   \n",
              "2 2010-12-01 08:26:00       2.75     17850.0  United Kingdom   \n",
              "3 2010-12-01 08:26:00       3.39     17850.0  United Kingdom   \n",
              "4 2010-12-01 08:26:00       3.39     17850.0  United Kingdom   \n",
              "\n",
              "                  ItemGroup  \n",
              "0      holder heart hanging  \n",
              "1  decoration hanging heart  \n",
              "2        cream cupid hearts  \n",
              "3         retrospot red set  \n",
              "4         red woolly hottie  "
            ]
          },
          "execution_count": 19,
          "metadata": {},
          "output_type": "execute_result"
        }
      ],
      "source": [
        "data.head()"
      ]
    },
    {
      "cell_type": "code",
      "execution_count": 20,
      "metadata": {
        "colab": {
          "base_uri": "https://localhost:8080/",
          "height": 641
        },
        "id": "-9d3lVa_kt36",
        "outputId": "fc64b1f8-c9c7-450f-bf43-50ac53ceffbf"
      },
      "outputs": [],
      "source": [
        "data.to_excel('data.xlsx', index = False)"
      ]
    },
    {
      "cell_type": "code",
      "execution_count": 21,
      "metadata": {},
      "outputs": [],
      "source": [
        "def get_recommendation(invoice_no):\n",
        "    # get all items in the given invoice number\n",
        "    basket = list(set(data[data['InvoiceNo'] == invoice_no]['Description']))\n",
        "\n",
        "    # get the item groups for the given invoice number\n",
        "    item_groups = data[data['InvoiceNo'] == invoice_no]['ItemGroup']\n",
        "\n",
        "    # if an invoice contains only one item group and that item group has only those items that are already present in the invoice, use fallback strategy\n",
        "    if item_groups.nunique() == 1 and data[data[\"ItemGroup\"] == item_groups.iloc[0]][\"Description\"].isin(basket).all():\n",
        "        # find the most similar item group\n",
        "        matches = process.extract(item_groups.iloc[0], data[\"ItemGroup\"].unique(), scorer=fuzz.token_set_ratio, limit=None)\n",
        "        matches_sorted = sorted(matches, key=lambda x: x[1], reverse=True)\n",
        "        item_groups = [x[0] for x in matches_sorted if x[0] != item_groups.iloc[0]]\n",
        "    \n",
        "    for item_group in item_groups:\n",
        "        \n",
        "        # print(f'selected: {i}')\n",
        "        if item_group is None:\n",
        "            return print(f'No item groups for: {invoice_no}')\n",
        "        \n",
        "        # get all items in the most common item group and sort them by Quantity\n",
        "        similar_items = data[data[\"ItemGroup\"] == item_group].sort_values(by='Quantity', ascending=False)[\"Description\"]\n",
        "        \n",
        "        # remove the items already in the basket\n",
        "        similar_items = similar_items[~similar_items.isin(basket)]\n",
        "\n",
        "        if len(similar_items) > 0:\n",
        "             break\n",
        "    \n",
        "    # randomly recommend an item from the remaining items, up to 3 recommendations\n",
        "    recommendations = similar_items.unique()[:3]\n",
        "    return np.random.choice(recommendations) if len(recommendations) > 0 else print(f'no items in item group other than from the invoice: {item_group} and hence recommendation for invoice not available: {invoice_no}')\n"
      ]
    },
    {
      "cell_type": "code",
      "execution_count": 22,
      "metadata": {
        "colab": {
          "base_uri": "https://localhost:8080/",
          "height": 799
        },
        "id": "nPfoCNVUyJvp",
        "outputId": "5b3631e1-2f6b-4b0a-bc81-c52bc7e08704"
      },
      "outputs": [
        {
          "name": "stderr",
          "output_type": "stream",
          "text": [
            "100%|██████████| 19959/19959 [2:26:23<00:00,  2.27it/s]     \n"
          ]
        }
      ],
      "source": [
        "# To store the recommendations for each unique invoice\n",
        "recommendations = []\n",
        "\n",
        "# Loop through each unique invoice and apply the get_recommendation function\n",
        "for invoice in tqdm(data['InvoiceNo'].unique()):\n",
        "    recommendation = get_recommendation(invoice)\n",
        "    recommendations.append(recommendation)\n",
        "\n",
        "# Map the recommendations back to the original DataFrame\n",
        "data['Recommendation'] = data['InvoiceNo'].map(dict(zip(data['InvoiceNo'].unique(), recommendations)))"
      ]
    },
    {
      "cell_type": "code",
      "execution_count": 23,
      "metadata": {
        "colab": {
          "background_save": true
        },
        "id": "HcyZQoOz_0ze",
        "outputId": "e23f83ea-a328-427f-e9a2-de41195140a7"
      },
      "outputs": [
        {
          "name": "stderr",
          "output_type": "stream",
          "text": [
            "100%|██████████| 914/914 [09:34<00:00,  1.59it/s]    \n"
          ]
        }
      ],
      "source": [
        "# Generate the summary table\n",
        "summary_table = pd.DataFrame(columns=['Description', 'Invoice Count', 'Recommendation Count'])\n",
        "\n",
        "unique_recommendations = data[\"Recommendation\"].unique()\n",
        "\n",
        "# iterate over the unique recommended items and add them to the summary table\n",
        "for item in tqdm(unique_recommendations):\n",
        "    invoice_count = data[data['Description'] == item]['InvoiceNo'].nunique()\n",
        "    recommendation_count = data[data['Recommendation'] == item]['InvoiceNo'].count()\n",
        "    summary_table = pd.concat([summary_table, pd.DataFrame([[item, invoice_count, recommendation_count]], columns=summary_table.columns)], ignore_index=True)\n",
        "    "
      ]
    },
    {
      "cell_type": "code",
      "execution_count": 24,
      "metadata": {
        "colab": {
          "background_save": true
        },
        "id": "toDggo-pdfOf"
      },
      "outputs": [],
      "source": [
        "# save the recommended items to an Excel file\n",
        "# data[[\"InvoiceNo\", \"Recommendation\"]].to_excel('recommended_items.xlsx', index=False)\n",
        "\n",
        "unique_data = data.drop_duplicates(subset=[\"InvoiceNo\"])\n",
        "unique_data[[\"InvoiceNo\", \"Recommendation\"]].to_excel('recommended_items.xlsx', index=False)\n",
        "\n",
        "# save the summary table to an Excel file\n",
        "summary_table.to_excel('summary_table.xlsx', index=False)"
      ]
    }
  ],
  "metadata": {
    "colab": {
      "provenance": []
    },
    "kernelspec": {
      "display_name": "Python 3",
      "name": "python3"
    },
    "language_info": {
      "codemirror_mode": {
        "name": "ipython",
        "version": 3
      },
      "file_extension": ".py",
      "mimetype": "text/x-python",
      "name": "python",
      "nbconvert_exporter": "python",
      "pygments_lexer": "ipython3",
      "version": "3.9.13"
    }
  },
  "nbformat": 4,
  "nbformat_minor": 0
}
