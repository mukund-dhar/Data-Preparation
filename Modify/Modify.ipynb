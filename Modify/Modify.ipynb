{
  "nbformat": 4,
  "nbformat_minor": 0,
  "metadata": {
    "colab": {
      "provenance": []
    },
    "kernelspec": {
      "name": "python3",
      "display_name": "Python 3"
    },
    "language_info": {
      "name": "python"
    }
  },
  "cells": [
    {
      "cell_type": "code",
      "execution_count": 184,
      "metadata": {
        "id": "z1xCTeEEbb2Q"
      },
      "outputs": [],
      "source": [
        "import pandas as pd\n",
        "import numpy as np\n",
        "import matplotlib.pyplot as plt\n",
        "import statsmodels.api as sm\n",
        "from sklearn.linear_model import LinearRegression\n",
        "from sklearn.metrics import mean_squared_error\n",
        "from sklearn.decomposition import PCA\n",
        "from sklearn.preprocessing import StandardScaler\n",
        "import warnings\n",
        "warnings.filterwarnings(\"ignore\", category=RuntimeWarning)"
      ]
    },
    {
      "cell_type": "code",
      "source": [
        "# Loading the data\n",
        "data = pd.read_csv('YearPredictionMSD.csv')"
      ],
      "metadata": {
        "id": "t22-w_NGxImn"
      },
      "execution_count": 185,
      "outputs": []
    },
    {
      "cell_type": "code",
      "source": [
        "data.head()"
      ],
      "metadata": {
        "colab": {
          "base_uri": "https://localhost:8080/",
          "height": 299
        },
        "id": "e4D8Z7vzN_Al",
        "outputId": "47611788-4d29-4446-b499-d80a0748fb10"
      },
      "execution_count": 186,
      "outputs": [
        {
          "output_type": "execute_result",
          "data": {
            "text/plain": [
              "      0         1         2         3         4         5         6         7  \\\n",
              "0  2001  49.94357  21.47114  73.07750   8.74861 -17.40628 -13.09905 -25.01202   \n",
              "1  2001  48.73215  18.42930  70.32679  12.94636 -10.32437 -24.83777   8.76630   \n",
              "2  2001  50.95714  31.85602  55.81851  13.41693  -6.57898 -18.54940  -3.27872   \n",
              "3  2001  48.24750  -1.89837  36.29772   2.58776   0.97170 -26.21683   5.05097   \n",
              "4  2001  50.97020  42.20998  67.09964   8.46791 -15.85279 -16.81409 -12.48207   \n",
              "\n",
              "          8         9  ...        81         82        83        84        85  \\\n",
              "0 -12.23257   7.83089  ...  13.01620  -54.40548  58.99367  15.37344   1.11144   \n",
              "1  -0.92019  18.76548  ...   5.66812  -19.68073  33.04964  42.87836  -9.90378   \n",
              "2  -2.35035  16.07017  ...   3.03800   26.05866 -50.92779  10.93792  -0.07568   \n",
              "3 -10.34124   3.55005  ...  34.57337 -171.70734 -16.96705 -46.67617 -12.51516   \n",
              "4  -9.37636  12.63699  ...   9.92661  -55.95724  64.92712 -17.72522  -1.49237   \n",
              "\n",
              "         86         87        88         89        90  \n",
              "0 -23.08793   68.40795  -1.82223  -27.46348   2.26327  \n",
              "1 -32.22788   70.49388  12.04941   58.43453  26.92061  \n",
              "2  43.20130 -115.00698  -0.05859   39.67068  -0.66345  \n",
              "3  82.58061  -72.08993   9.90558  199.62971  18.85382  \n",
              "4  -7.50035   51.76631   7.88713   55.66926  28.74903  \n",
              "\n",
              "[5 rows x 91 columns]"
            ],
            "text/html": [
              "\n",
              "  <div id=\"df-d6096f22-01d6-4251-b490-2b5036e009cc\">\n",
              "    <div class=\"colab-df-container\">\n",
              "      <div>\n",
              "<style scoped>\n",
              "    .dataframe tbody tr th:only-of-type {\n",
              "        vertical-align: middle;\n",
              "    }\n",
              "\n",
              "    .dataframe tbody tr th {\n",
              "        vertical-align: top;\n",
              "    }\n",
              "\n",
              "    .dataframe thead th {\n",
              "        text-align: right;\n",
              "    }\n",
              "</style>\n",
              "<table border=\"1\" class=\"dataframe\">\n",
              "  <thead>\n",
              "    <tr style=\"text-align: right;\">\n",
              "      <th></th>\n",
              "      <th>0</th>\n",
              "      <th>1</th>\n",
              "      <th>2</th>\n",
              "      <th>3</th>\n",
              "      <th>4</th>\n",
              "      <th>5</th>\n",
              "      <th>6</th>\n",
              "      <th>7</th>\n",
              "      <th>8</th>\n",
              "      <th>9</th>\n",
              "      <th>...</th>\n",
              "      <th>81</th>\n",
              "      <th>82</th>\n",
              "      <th>83</th>\n",
              "      <th>84</th>\n",
              "      <th>85</th>\n",
              "      <th>86</th>\n",
              "      <th>87</th>\n",
              "      <th>88</th>\n",
              "      <th>89</th>\n",
              "      <th>90</th>\n",
              "    </tr>\n",
              "  </thead>\n",
              "  <tbody>\n",
              "    <tr>\n",
              "      <th>0</th>\n",
              "      <td>2001</td>\n",
              "      <td>49.94357</td>\n",
              "      <td>21.47114</td>\n",
              "      <td>73.07750</td>\n",
              "      <td>8.74861</td>\n",
              "      <td>-17.40628</td>\n",
              "      <td>-13.09905</td>\n",
              "      <td>-25.01202</td>\n",
              "      <td>-12.23257</td>\n",
              "      <td>7.83089</td>\n",
              "      <td>...</td>\n",
              "      <td>13.01620</td>\n",
              "      <td>-54.40548</td>\n",
              "      <td>58.99367</td>\n",
              "      <td>15.37344</td>\n",
              "      <td>1.11144</td>\n",
              "      <td>-23.08793</td>\n",
              "      <td>68.40795</td>\n",
              "      <td>-1.82223</td>\n",
              "      <td>-27.46348</td>\n",
              "      <td>2.26327</td>\n",
              "    </tr>\n",
              "    <tr>\n",
              "      <th>1</th>\n",
              "      <td>2001</td>\n",
              "      <td>48.73215</td>\n",
              "      <td>18.42930</td>\n",
              "      <td>70.32679</td>\n",
              "      <td>12.94636</td>\n",
              "      <td>-10.32437</td>\n",
              "      <td>-24.83777</td>\n",
              "      <td>8.76630</td>\n",
              "      <td>-0.92019</td>\n",
              "      <td>18.76548</td>\n",
              "      <td>...</td>\n",
              "      <td>5.66812</td>\n",
              "      <td>-19.68073</td>\n",
              "      <td>33.04964</td>\n",
              "      <td>42.87836</td>\n",
              "      <td>-9.90378</td>\n",
              "      <td>-32.22788</td>\n",
              "      <td>70.49388</td>\n",
              "      <td>12.04941</td>\n",
              "      <td>58.43453</td>\n",
              "      <td>26.92061</td>\n",
              "    </tr>\n",
              "    <tr>\n",
              "      <th>2</th>\n",
              "      <td>2001</td>\n",
              "      <td>50.95714</td>\n",
              "      <td>31.85602</td>\n",
              "      <td>55.81851</td>\n",
              "      <td>13.41693</td>\n",
              "      <td>-6.57898</td>\n",
              "      <td>-18.54940</td>\n",
              "      <td>-3.27872</td>\n",
              "      <td>-2.35035</td>\n",
              "      <td>16.07017</td>\n",
              "      <td>...</td>\n",
              "      <td>3.03800</td>\n",
              "      <td>26.05866</td>\n",
              "      <td>-50.92779</td>\n",
              "      <td>10.93792</td>\n",
              "      <td>-0.07568</td>\n",
              "      <td>43.20130</td>\n",
              "      <td>-115.00698</td>\n",
              "      <td>-0.05859</td>\n",
              "      <td>39.67068</td>\n",
              "      <td>-0.66345</td>\n",
              "    </tr>\n",
              "    <tr>\n",
              "      <th>3</th>\n",
              "      <td>2001</td>\n",
              "      <td>48.24750</td>\n",
              "      <td>-1.89837</td>\n",
              "      <td>36.29772</td>\n",
              "      <td>2.58776</td>\n",
              "      <td>0.97170</td>\n",
              "      <td>-26.21683</td>\n",
              "      <td>5.05097</td>\n",
              "      <td>-10.34124</td>\n",
              "      <td>3.55005</td>\n",
              "      <td>...</td>\n",
              "      <td>34.57337</td>\n",
              "      <td>-171.70734</td>\n",
              "      <td>-16.96705</td>\n",
              "      <td>-46.67617</td>\n",
              "      <td>-12.51516</td>\n",
              "      <td>82.58061</td>\n",
              "      <td>-72.08993</td>\n",
              "      <td>9.90558</td>\n",
              "      <td>199.62971</td>\n",
              "      <td>18.85382</td>\n",
              "    </tr>\n",
              "    <tr>\n",
              "      <th>4</th>\n",
              "      <td>2001</td>\n",
              "      <td>50.97020</td>\n",
              "      <td>42.20998</td>\n",
              "      <td>67.09964</td>\n",
              "      <td>8.46791</td>\n",
              "      <td>-15.85279</td>\n",
              "      <td>-16.81409</td>\n",
              "      <td>-12.48207</td>\n",
              "      <td>-9.37636</td>\n",
              "      <td>12.63699</td>\n",
              "      <td>...</td>\n",
              "      <td>9.92661</td>\n",
              "      <td>-55.95724</td>\n",
              "      <td>64.92712</td>\n",
              "      <td>-17.72522</td>\n",
              "      <td>-1.49237</td>\n",
              "      <td>-7.50035</td>\n",
              "      <td>51.76631</td>\n",
              "      <td>7.88713</td>\n",
              "      <td>55.66926</td>\n",
              "      <td>28.74903</td>\n",
              "    </tr>\n",
              "  </tbody>\n",
              "</table>\n",
              "<p>5 rows × 91 columns</p>\n",
              "</div>\n",
              "      <button class=\"colab-df-convert\" onclick=\"convertToInteractive('df-d6096f22-01d6-4251-b490-2b5036e009cc')\"\n",
              "              title=\"Convert this dataframe to an interactive table.\"\n",
              "              style=\"display:none;\">\n",
              "        \n",
              "  <svg xmlns=\"http://www.w3.org/2000/svg\" height=\"24px\"viewBox=\"0 0 24 24\"\n",
              "       width=\"24px\">\n",
              "    <path d=\"M0 0h24v24H0V0z\" fill=\"none\"/>\n",
              "    <path d=\"M18.56 5.44l.94 2.06.94-2.06 2.06-.94-2.06-.94-.94-2.06-.94 2.06-2.06.94zm-11 1L8.5 8.5l.94-2.06 2.06-.94-2.06-.94L8.5 2.5l-.94 2.06-2.06.94zm10 10l.94 2.06.94-2.06 2.06-.94-2.06-.94-.94-2.06-.94 2.06-2.06.94z\"/><path d=\"M17.41 7.96l-1.37-1.37c-.4-.4-.92-.59-1.43-.59-.52 0-1.04.2-1.43.59L10.3 9.45l-7.72 7.72c-.78.78-.78 2.05 0 2.83L4 21.41c.39.39.9.59 1.41.59.51 0 1.02-.2 1.41-.59l7.78-7.78 2.81-2.81c.8-.78.8-2.07 0-2.86zM5.41 20L4 18.59l7.72-7.72 1.47 1.35L5.41 20z\"/>\n",
              "  </svg>\n",
              "      </button>\n",
              "      \n",
              "  <style>\n",
              "    .colab-df-container {\n",
              "      display:flex;\n",
              "      flex-wrap:wrap;\n",
              "      gap: 12px;\n",
              "    }\n",
              "\n",
              "    .colab-df-convert {\n",
              "      background-color: #E8F0FE;\n",
              "      border: none;\n",
              "      border-radius: 50%;\n",
              "      cursor: pointer;\n",
              "      display: none;\n",
              "      fill: #1967D2;\n",
              "      height: 32px;\n",
              "      padding: 0 0 0 0;\n",
              "      width: 32px;\n",
              "    }\n",
              "\n",
              "    .colab-df-convert:hover {\n",
              "      background-color: #E2EBFA;\n",
              "      box-shadow: 0px 1px 2px rgba(60, 64, 67, 0.3), 0px 1px 3px 1px rgba(60, 64, 67, 0.15);\n",
              "      fill: #174EA6;\n",
              "    }\n",
              "\n",
              "    [theme=dark] .colab-df-convert {\n",
              "      background-color: #3B4455;\n",
              "      fill: #D2E3FC;\n",
              "    }\n",
              "\n",
              "    [theme=dark] .colab-df-convert:hover {\n",
              "      background-color: #434B5C;\n",
              "      box-shadow: 0px 1px 3px 1px rgba(0, 0, 0, 0.15);\n",
              "      filter: drop-shadow(0px 1px 2px rgba(0, 0, 0, 0.3));\n",
              "      fill: #FFFFFF;\n",
              "    }\n",
              "  </style>\n",
              "\n",
              "      <script>\n",
              "        const buttonEl =\n",
              "          document.querySelector('#df-d6096f22-01d6-4251-b490-2b5036e009cc button.colab-df-convert');\n",
              "        buttonEl.style.display =\n",
              "          google.colab.kernel.accessAllowed ? 'block' : 'none';\n",
              "\n",
              "        async function convertToInteractive(key) {\n",
              "          const element = document.querySelector('#df-d6096f22-01d6-4251-b490-2b5036e009cc');\n",
              "          const dataTable =\n",
              "            await google.colab.kernel.invokeFunction('convertToInteractive',\n",
              "                                                     [key], {});\n",
              "          if (!dataTable) return;\n",
              "\n",
              "          const docLinkHtml = 'Like what you see? Visit the ' +\n",
              "            '<a target=\"_blank\" href=https://colab.research.google.com/notebooks/data_table.ipynb>data table notebook</a>'\n",
              "            + ' to learn more about interactive tables.';\n",
              "          element.innerHTML = '';\n",
              "          dataTable['output_type'] = 'display_data';\n",
              "          await google.colab.output.renderOutput(dataTable, element);\n",
              "          const docLink = document.createElement('div');\n",
              "          docLink.innerHTML = docLinkHtml;\n",
              "          element.appendChild(docLink);\n",
              "        }\n",
              "      </script>\n",
              "    </div>\n",
              "  </div>\n",
              "  "
            ]
          },
          "metadata": {},
          "execution_count": 186
        }
      ]
    },
    {
      "cell_type": "code",
      "source": [
        "data.shape"
      ],
      "metadata": {
        "colab": {
          "base_uri": "https://localhost:8080/",
          "height": 0
        },
        "id": "jzX1_wYXNGqY",
        "outputId": "fadadf94-8b83-4793-ced0-add9537e91e5"
      },
      "execution_count": 187,
      "outputs": [
        {
          "output_type": "execute_result",
          "data": {
            "text/plain": [
              "(515345, 91)"
            ]
          },
          "metadata": {},
          "execution_count": 187
        }
      ]
    },
    {
      "cell_type": "code",
      "source": [
        "# Splitting the training data and test data for predictor and target variables as per the given details\n",
        "X_train = data.iloc[:463715, 1:]\n",
        "y_train = data.iloc[:463715, 0]\n",
        "X_test = data.iloc[463715:, 1:]\n",
        "y_test = data.iloc[463715:, 0]"
      ],
      "metadata": {
        "id": "EPIwAUI3kh4q"
      },
      "execution_count": 188,
      "outputs": []
    },
    {
      "cell_type": "markdown",
      "source": [
        "**Part 1: Transform the predictors**"
      ],
      "metadata": {
        "id": "5wg03F9l5mzy"
      }
    },
    {
      "cell_type": "code",
      "source": [
        "best_transformations = {}\n",
        "names = ['no_transform', 'log', 'exp', 'inv', 'square', 'sqrt', 'cns', 'range', 'int_bin', 'quant_bin']\n",
        "transform_counts = {name: 0 for name in names}\n",
        "\n",
        "# Applying the different transformations to each predictor variable\n",
        "for n, predictor in X_train.items():\n",
        "  log_transform = np.log(predictor)\n",
        "  exp_transform = np.exp(predictor)\n",
        "  inv_transform = 1 / predictor\n",
        "  square_transform = predictor ** 2\n",
        "  sqrt_transform = np.sqrt(predictor)\n",
        "  cns_transform = (predictor - predictor.mean()) / predictor.std()\n",
        "  range_transform = (predictor - predictor.min()) / (predictor.max() - predictor.min())\n",
        "  int_bin_transform = pd.cut(predictor, bins=10, labels=False)\n",
        "  quant_bin_transform = pd.qcut(predictor, q=10, labels=False)\n",
        "\n",
        "  transforms = [predictor, log_transform, exp_transform, inv_transform, square_transform, sqrt_transform, cns_transform, range_transform, int_bin_transform, quant_bin_transform]\n",
        "  \n",
        "  # print(f\"For the predictor variable {n}:\")\n",
        "  # Finding the correlation coefficient and R-squared score of the transformed predictor with the target variable\n",
        "  r2_scores = []\n",
        "  for i, transform in enumerate(transforms):\n",
        "      # print('Correlation coefficient between {} transformed predictor and target variables: {:.3f}'.format(names[i], pd.Series(np.nan_to_num(transform)).corr(y_train)))\n",
        "      transformed = sm.add_constant(np.nan_to_num(transform).reshape(-1, 1))\n",
        "      model = sm.OLS(np.nan_to_num(y_train).reshape(-1, 1), transformed).fit()\n",
        "      r_squared = model.rsquared\n",
        "      r2_scores.append(r_squared)\n",
        "      # print(f\"R-squared score for {names[i]}: {r_squared:.4f}\")\n",
        "  \n",
        "  best_index = np.argmax(r2_scores)\n",
        "  best_transformations[n] = names[best_index]\n",
        "  transform_counts[names[best_index]] += 1\n",
        "  # print(f\"Best transformation for {n}: {names[best_index]} (R-squared score: {r2_scores[best_index]:.2f})\")\n"
      ],
      "metadata": {
        "id": "88Yl5iLXjnLf"
      },
      "execution_count": 189,
      "outputs": []
    },
    {
      "cell_type": "code",
      "source": [
        "# table listing the predictor variable and the transform selected\n",
        "table = pd.DataFrame(best_transformations.items(), columns=['Predictor Variable', 'Transform Selected'])\n",
        "\n",
        "# Summary table showing how many times each transform was used\n",
        "summary_table = pd.DataFrame({'Transform': list(transform_counts.keys()), 'Count': list(transform_counts.values())})\n",
        "\n",
        "\n",
        "# print the table listing the predictor variable and the transform selected\n",
        "print(\"\\nTable: Predictor Variable vs Transform Selected\")\n",
        "print(table)\n",
        "\n",
        "# print the summary table showing how many times each transform was used\n",
        "print(\"\\nSummary Table: Count of Each Transform Used\")\n",
        "print(summary_table)"
      ],
      "metadata": {
        "colab": {
          "base_uri": "https://localhost:8080/",
          "height": 0
        },
        "id": "5pQPVfYL3hkF",
        "outputId": "fe79d181-a716-4ca9-d775-46f1e24a093e"
      },
      "execution_count": 190,
      "outputs": [
        {
          "output_type": "stream",
          "name": "stdout",
          "text": [
            "\n",
            "Table: Predictor Variable vs Transform Selected\n",
            "   Predictor Variable Transform Selected\n",
            "0                   1          quant_bin\n",
            "1                   2             square\n",
            "2                   3          quant_bin\n",
            "3                   4             square\n",
            "4                   5             square\n",
            "..                ...                ...\n",
            "85                 86          quant_bin\n",
            "86                 87          quant_bin\n",
            "87                 88          quant_bin\n",
            "88                 89               sqrt\n",
            "89                 90          quant_bin\n",
            "\n",
            "[90 rows x 2 columns]\n",
            "\n",
            "Summary Table: Count of Each Transform Used\n",
            "      Transform  Count\n",
            "0  no_transform      6\n",
            "1           log      6\n",
            "2           exp      0\n",
            "3           inv      2\n",
            "4        square     10\n",
            "5          sqrt     22\n",
            "6           cns      6\n",
            "7         range      1\n",
            "8       int_bin      7\n",
            "9     quant_bin     30\n"
          ]
        }
      ]
    },
    {
      "cell_type": "code",
      "source": [
        "def apply_transformation(X, best_transformations):\n",
        "    transformation_dict = {'log': np.log,\n",
        "                          'exp': np.exp,\n",
        "                          'inv': lambda x: 1/x,\n",
        "                          'square': lambda x: x**2,\n",
        "                          'sqrt': np.sqrt,\n",
        "                          'cns': lambda x: (x - x.mean()) / x.std(),\n",
        "                          'range': lambda x: (x - x.min()) / (x.max() - x.min()),\n",
        "                          'int_bin': lambda x: pd.cut(x, bins=10, labels=False),\n",
        "                          'quant_bin': lambda x: pd.qcut(x, q=10, labels=False)}\n",
        "\n",
        "    X_transformed = pd.DataFrame()\n",
        "\n",
        "    for col in X.columns:\n",
        "        transformation_name = best_transformations.get(col, 'no_transform')\n",
        "        transformation_func = transformation_dict.get(transformation_name, lambda x: x)\n",
        "        X_transformed[col] = transformation_func(X[col])\n",
        "        \n",
        "    return X_transformed\n"
      ],
      "metadata": {
        "id": "br7hy4JR6AiN"
      },
      "execution_count": 191,
      "outputs": []
    },
    {
      "cell_type": "code",
      "source": [
        "X_train_transformed = apply_transformation(X_train, best_transformations)\n",
        "X_test_transformed = apply_transformation(X_test, best_transformations)"
      ],
      "metadata": {
        "id": "-PvVUUuhDmh9"
      },
      "execution_count": 192,
      "outputs": []
    },
    {
      "cell_type": "markdown",
      "source": [
        "**Part 2: Principal Component Analysis**"
      ],
      "metadata": {
        "id": "P3JUulbi7TwM"
      }
    },
    {
      "cell_type": "code",
      "source": [
        "def pca(X_train, X_test):\n",
        "    scaler = StandardScaler()\n",
        "    X_train_scaled = scaler.fit_transform(X_train)\n",
        "\n",
        "    n_components = X_train.shape[1]\n",
        "    pca = PCA(n_components=n_components)\n",
        "    X_train_pca = pca.fit_transform(X_train_scaled)\n",
        "\n",
        "    # plot the cumulative explained variance ratio vs. number of components\n",
        "    cumulative_var_ratio = np.cumsum(pca.explained_variance_ratio_)\n",
        "    plt.plot(range(1, n_components+1), cumulative_var_ratio, 'bo-')\n",
        "    plt.xlabel('Number of Components')\n",
        "    plt.ylabel('Cumulative Explained Variance Ratio')\n",
        "    plt.show()\n",
        "\n",
        "    # find the number of components needed to explain at least 95% of the variance\n",
        "    n_components = np.argmax(cumulative_var_ratio >= 0.95) + 1\n",
        "    print(f\"Number of components to explain at least 95% variance: {n_components}\")\n",
        "\n",
        "    pca = PCA(n_components=n_components)\n",
        "    X_train_pca = pca.fit_transform(X_train_scaled)\n",
        "    X_test_pca = pca.transform(scaler.transform(X_test))\n",
        "\n",
        "    return X_train_pca, X_test_pca"
      ],
      "metadata": {
        "id": "fnfBLMBt7a3A"
      },
      "execution_count": 193,
      "outputs": []
    },
    {
      "cell_type": "code",
      "source": [
        "X_train_pca, X_test_pca = pca(X_train, X_test)"
      ],
      "metadata": {
        "colab": {
          "base_uri": "https://localhost:8080/",
          "height": 466
        },
        "id": "x8edFT4sJnZi",
        "outputId": "657e89f7-0b49-4a96-c175-2bda63eeb6c1"
      },
      "execution_count": 194,
      "outputs": [
        {
          "output_type": "display_data",
          "data": {
            "text/plain": [
              "<Figure size 640x480 with 1 Axes>"
            ],
            "image/png": "[encoded data removed]"
          },
          "metadata": {}
        },
        {
          "output_type": "stream",
          "name": "stdout",
          "text": [
            "Number of components to explain at least 95% variance: 67\n"
          ]
        }
      ]
    },
    {
      "cell_type": "markdown",
      "source": [
        "**Part 3: Regression Models**"
      ],
      "metadata": {
        "id": "wcikxGDWtFhX"
      }
    },
    {
      "cell_type": "code",
      "source": [
        "# Build and train linear regression model on untransformed predictors\n",
        "model = LinearRegression()\n",
        "model.fit(X_train, y_train)\n",
        "\n",
        "# Make predictions on test set and print RMSE\n",
        "y_pred = model.predict(X_test)\n",
        "rmse = mean_squared_error(y_test, y_pred, squared=False)\n",
        "print(\"Untransformed predictors RMSE:\", rmse)"
      ],
      "metadata": {
        "colab": {
          "base_uri": "https://localhost:8080/",
          "height": 0
        },
        "id": "SVnkHguptJ_v",
        "outputId": "71b9e40b-bc04-49e4-8817-64e0cef2469d"
      },
      "execution_count": 195,
      "outputs": [
        {
          "output_type": "stream",
          "name": "stdout",
          "text": [
            "Untransformed predictors RMSE: 9.510160707488621\n"
          ]
        }
      ]
    },
    {
      "cell_type": "code",
      "source": [
        "# Build and train a model with transformed predictors\n",
        "\n",
        "# Train linear regression model on transformed predictors\n",
        "model_transformed = LinearRegression()\n",
        "model_transformed.fit(np.nan_to_num(X_train_transformed), y_train)\n",
        "\n",
        "# Make predictions on test set and print RMSE\n",
        "yt_pred = model_transformed.predict(np.nan_to_num(X_test_transformed))\n",
        "rmse_transformed = mean_squared_error(y_test, yt_pred, squared=False)\n",
        "print(\"Transformed predictors RMSE:\", rmse_transformed)"
      ],
      "metadata": {
        "id": "cmL1IMvOtnzg",
        "colab": {
          "base_uri": "https://localhost:8080/",
          "height": 0
        },
        "outputId": "0b42cc15-023f-4e81-ef87-9c15743b5845"
      },
      "execution_count": 196,
      "outputs": [
        {
          "output_type": "stream",
          "name": "stdout",
          "text": [
            "Transformed predictors RMSE: 9.85039633006162\n"
          ]
        }
      ]
    },
    {
      "cell_type": "code",
      "source": [
        "# Step 3: Build and train a model with principal components\n",
        "\n",
        "model_pca = LinearRegression()\n",
        "model_pca.fit(X_train_pca, y_train)\n",
        "\n",
        "# Make predictions on test set and print RMSE\n",
        "yp_pred = model_pca.predict(X_test_pca)\n",
        "rmse_pca = mean_squared_error(y_test, yp_pred, squared=False)\n",
        "print(\"PCA predictors RMSE:\", rmse_pca)"
      ],
      "metadata": {
        "colab": {
          "base_uri": "https://localhost:8080/",
          "height": 0
        },
        "id": "5Oa0JsO_wBiB",
        "outputId": "e5ea4cb7-8fc4-430a-f91c-7d973ec4b3ea"
      },
      "execution_count": 197,
      "outputs": [
        {
          "output_type": "stream",
          "name": "stdout",
          "text": [
            "PCA predictors RMSE: 9.853499454345094\n"
          ]
        }
      ]
    }
  ]
}